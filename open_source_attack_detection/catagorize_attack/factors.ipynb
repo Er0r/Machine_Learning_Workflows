{
 "cells": [
  {
   "cell_type": "code",
   "execution_count": 2,
   "metadata": {},
   "outputs": [
    {
     "name": "stdout",
     "output_type": "stream",
     "text": [
      "Number of packages:  1940\n"
     ]
    }
   ],
   "source": [
    "import pandas as pd \n",
    "data = pd.read_csv('https://raw.githubusercontent.com/SAP-samples/cross-language-detection-artifacts/main/Labelled_Dataset.csv')\n",
    "num_packages = data.shape[0]\n",
    "print(\"Number of packages: \", num_packages)"
   ]
  },
  {
   "cell_type": "code",
   "execution_count": 4,
   "metadata": {},
   "outputs": [
    {
     "name": "stdout",
     "output_type": "stream",
     "text": [
      "Number of packages from NPM: 1020\n",
      "Number of packages from PyPI: 920\n"
     ]
    }
   ],
   "source": [
    "# Count the number of packages from each repository\n",
    "num_packages_npm = data[\"Package Repository\"].value_counts()[\"NPM\"]\n",
    "num_packages_pypi = data[\"Package Repository\"].value_counts()[\"PyPI\"]\n",
    "\n",
    "print(\"Number of packages from NPM:\", num_packages_npm)\n",
    "print(\"Number of packages from PyPI:\", num_packages_pypi)"
   ]
  },
  {
   "cell_type": "code",
   "execution_count": 10,
   "metadata": {},
   "outputs": [
    {
     "name": "stdout",
     "output_type": "stream",
     "text": [
      "Number of malicious NPM packages: 102\n",
      "Number of benign NPM packages: 918\n",
      "Number of malicious PyPI packages: 92\n",
      "Number of benign PyPI packages: 828\n"
     ]
    }
   ],
   "source": [
    "# Filter packages by repository\n",
    "npm_packages = data[data[\"Package Repository\"] == \"NPM\"]\n",
    "pypi_packages = data[data[\"Package Repository\"] == \"PyPI\"]\n",
    "\n",
    "# Count malicious and benign packages for NPM\n",
    "num_malicious_packages_npm = npm_packages[npm_packages[\"Malicious\"] == 1].shape[0]\n",
    "num_benign_packages_npm = npm_packages[npm_packages[\"Malicious\"] == 0].shape[0]\n",
    "\n",
    "# Count malicious and benign packages for PyPI\n",
    "num_malicious_packages_pypi = pypi_packages[pypi_packages[\"Malicious\"] == 1].shape[0]\n",
    "num_benign_packages_pypi = pypi_packages[pypi_packages[\"Malicious\"] == 0].shape[0]\n",
    "\n",
    "print(\"Number of malicious NPM packages:\", num_malicious_packages_npm)\n",
    "print(\"Number of benign NPM packages:\", num_benign_packages_npm)\n",
    "\n",
    "print(\"Number of malicious PyPI packages:\", num_malicious_packages_pypi)\n",
    "print(\"Number of benign PyPI packages:\", num_benign_packages_pypi)"
   ]
  }
 ],
 "metadata": {
  "kernelspec": {
   "display_name": "Python 3",
   "language": "python",
   "name": "python3"
  },
  "language_info": {
   "codemirror_mode": {
    "name": "ipython",
    "version": 3
   },
   "file_extension": ".py",
   "mimetype": "text/x-python",
   "name": "python",
   "nbconvert_exporter": "python",
   "pygments_lexer": "ipython3",
   "version": "3.10.12"
  }
 },
 "nbformat": 4,
 "nbformat_minor": 2
}
